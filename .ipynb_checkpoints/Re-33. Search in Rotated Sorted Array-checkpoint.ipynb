{
 "cells": [
  {
   "cell_type": "code",
   "execution_count": null,
   "metadata": {},
   "outputs": [],
   "source": []
  },
  {
   "cell_type": "code",
   "execution_count": 10,
   "metadata": {},
   "outputs": [
    {
     "data": {
      "text/plain": [
       "4"
      ]
     },
     "execution_count": 10,
     "metadata": {},
     "output_type": "execute_result"
    }
   ],
   "source": [
    "def searchIndexoftarget(nums, tar):\n",
    "     \n",
    "    #base condition    \n",
    "    if not nums:\n",
    "        return -1\n",
    "    \n",
    "    left = 0\n",
    "    right = len(nums)-1\n",
    "\n",
    "    \n",
    "    while(left <= right):\n",
    "        mid = int(left + (right - left)/2) #find the mid\n",
    "        \n",
    "        if(nums[mid] == tar): #bingo \n",
    "            return mid\n",
    "        \n",
    "        if(nums[left]<= nums[mid]): #LS is sorted\n",
    "            if(tar >= nums[left] and tar<nums[mid]):\n",
    "                right = mid - 1\n",
    "            else:\n",
    "                left = mid + 1\n",
    "        else: #RS is sorted\n",
    "            if(tar > nums[mid] and tar<=nums[right]):\n",
    "                left = mid + 1\n",
    "            else:\n",
    "                right = mid - 1\n",
    "    return -1       \n",
    "        \n",
    "nums=[4,5,6,7,0,1,2] \n",
    "tar = 0\n",
    "searchIndexoftarget(nums, tar)    "
   ]
  },
  {
   "cell_type": "code",
   "execution_count": null,
   "metadata": {},
   "outputs": [],
   "source": []
  }
 ],
 "metadata": {
  "kernelspec": {
   "display_name": "Python 3",
   "language": "python",
   "name": "python3"
  },
  "language_info": {
   "codemirror_mode": {
    "name": "ipython",
    "version": 3
   },
   "file_extension": ".py",
   "mimetype": "text/x-python",
   "name": "python",
   "nbconvert_exporter": "python",
   "pygments_lexer": "ipython3",
   "version": "3.7.7"
  }
 },
 "nbformat": 4,
 "nbformat_minor": 4
}
