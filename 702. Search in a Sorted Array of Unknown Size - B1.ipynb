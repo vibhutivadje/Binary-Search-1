{
 "cells": [
  {
   "cell_type": "markdown",
   "metadata": {},
   "source": [
    "Given an integer array sorted in ascending order, write a function to search target in nums.  \n",
    "If target exists, then return its index, otherwise return -1. However, the array size is unknown to you. \n",
    "You may only access the array using an ArrayReader interface, where ArrayReader.get(k) returns the element \n",
    "of the array at index k (0-indexed).\n",
    "\n",
    "You may assume all integers in the array are less than 10000, and if you access the array out of bounds, ArrayReader.get will return 2147483647.\n",
    "\n"
   ]
  },
  {
   "cell_type": "code",
   "execution_count": null,
   "metadata": {},
   "outputs": [],
   "source": [
    "class InfiniteSortedArray():\n",
    "    # Function to search number in infinite sorted array\n",
    "    def infinite_search(self, reader, target):\n",
    "        # to check the first element in the array\n",
    "        if reader.get(0) == target:\n",
    "            return 0\n",
    "\n",
    "        # Search boundaries\n",
    "        left = 0\n",
    "        right = 1\n",
    "        while reader.get(right) < target:\n",
    "            left = right\n",
    "            right = right * 2 # as in binary search we always split in two parts\n",
    "        self.binarySearch(reader, target, left, right)\n",
    "\n",
    "    # Function for Binary Search\n",
    "    def binarySearch(self, reader, target, left, right):\n",
    "        # Base case\n",
    "        if left > right:\n",
    "            return -1\n",
    "\n",
    "        # while left <= right:\n",
    "        mid = int(left + (right - left)/2)\n",
    "        num = reader.get(mid)\n",
    "\n",
    "        if num == target:\n",
    "            return mid\n",
    "        elif num > target:\n",
    "            return self.binarySearch(reader, target, left, mid - 1)\n",
    "        else:\n",
    "            return self.binarySearch(reader, target, mid + 1, right)\n",
    "\n",
    "#TimeComplexity: O(log n)\n",
    "#SpaceComplexity: O(1)"
   ]
  }
 ],
 "metadata": {
  "kernelspec": {
   "display_name": "Python 3",
   "language": "python",
   "name": "python3"
  },
  "language_info": {
   "codemirror_mode": {
    "name": "ipython",
    "version": 3
   },
   "file_extension": ".py",
   "mimetype": "text/x-python",
   "name": "python",
   "nbconvert_exporter": "python",
   "pygments_lexer": "ipython3",
   "version": "3.7.7"
  }
 },
 "nbformat": 4,
 "nbformat_minor": 4
}
