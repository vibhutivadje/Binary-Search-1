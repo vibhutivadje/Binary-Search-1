{
 "cells": [
  {
   "cell_type": "markdown",
   "metadata": {},
   "source": [
    "You are given an integer array nums sorted in ascending order, and an integer target.\n",
    "\n",
    "Suppose that nums is rotated at some pivot unknown to you beforehand (i.e., [0,1,2,4,5,6,7] might become [4,5,6,7,0,1,2]).\n",
    "\n",
    "If target is found in the array return its index, otherwise, return -1."
   ]
  },
  {
   "cell_type": "code",
   "execution_count": null,
   "metadata": {},
   "outputs": [],
   "source": [
    "#Here in this problem we initally think the array is unsorted.\n",
    "#but we need to use the advantage of partially sorted.\n",
    "#Clarifying questions: Does array contain duplicate, negative number"
   ]
  },
  {
   "cell_type": "code",
   "execution_count": 23,
   "metadata": {},
   "outputs": [
    {
     "data": {
      "text/plain": [
       "4"
      ]
     },
     "execution_count": 23,
     "metadata": {},
     "output_type": "execute_result"
    }
   ],
   "source": [
    "#input: nums = [4,5,6,7,0,1,2], target=0, output:4\n",
    "def findnumsinpivotarray(nums, target):\n",
    "    left = 0\n",
    "    right = len(nums)-1\n",
    "    \n",
    "    if not nums:\n",
    "        return -1\n",
    "    \n",
    "    while(left <= right):\n",
    "        mid = int(left + (right-left)/2) #find the mid\n",
    "\n",
    "        #bingo found the target\n",
    "        if(nums[mid] == target):\n",
    "             return mid\n",
    "\n",
    "        if(nums[left] <= nums[mid]): #check ls is sorted\n",
    "            if(target >= nums[left] and target < nums[mid]): #check if the target element lies in the left sorted array\n",
    "                right = mid - 1 \n",
    "            else:\n",
    "                left = mid + 1\n",
    "        else: #check rs is sorted\n",
    "            if(target > nums[mid] and target<=nums[right]): #check if the target element lies in the right sorted array \n",
    "                left = mid + 1\n",
    "            else:\n",
    "                right = mid - 1\n",
    "    return -1   \n",
    "findnumsinpivotarray(nums = [4,5,6,7,0,1,2], target=0)\n",
    "#findnumsinpivotarray(nums = [4], target=0)\n",
    "#timecomplexity: O(log n)\n",
    "#Spacecomplexity: O(1)"
   ]
  }
 ],
 "metadata": {
  "kernelspec": {
   "display_name": "Python 3",
   "language": "python",
   "name": "python3"
  },
  "language_info": {
   "codemirror_mode": {
    "name": "ipython",
    "version": 3
   },
   "file_extension": ".py",
   "mimetype": "text/x-python",
   "name": "python",
   "nbconvert_exporter": "python",
   "pygments_lexer": "ipython3",
   "version": "3.7.7"
  }
 },
 "nbformat": 4,
 "nbformat_minor": 4
}
